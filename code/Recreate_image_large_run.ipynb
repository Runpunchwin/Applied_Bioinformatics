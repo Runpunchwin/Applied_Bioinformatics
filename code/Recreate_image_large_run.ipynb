{
  "nbformat": 4,
  "nbformat_minor": 0,
  "metadata": {
    "colab": {
      "name": "Recreate_image_large_run.ipynb",
      "provenance": []
    },
    "kernelspec": {
      "name": "python3",
      "display_name": "Python 3"
    },
    "accelerator": "GPU"
  },
  "cells": [
    {
      "cell_type": "code",
      "metadata": {
        "id": "wqnfxexuxGQe",
        "colab": {
          "base_uri": "https://localhost:8080/"
        },
        "outputId": "856384a0-902d-4803-82fc-48c481330203"
      },
      "source": [
        "from google.colab import drive\n",
        "drive.mount('/content/drive')"
      ],
      "execution_count": null,
      "outputs": [
        {
          "output_type": "stream",
          "text": [
            "Mounted at /content/drive\n"
          ],
          "name": "stdout"
        }
      ]
    },
    {
      "cell_type": "code",
      "metadata": {
        "id": "_W8zYL_BkzMw"
      },
      "source": [
        "import numpy as np\n",
        "import tensorflow as tf\n",
        "import random as python_random\n",
        "import os\n",
        "\n",
        "# Choose seed\n",
        "my_seed = 123\n",
        "\n",
        "# Set the python hash seed\n",
        "os.environ['PYTHONHASHSEED']=str(my_seed)\n",
        "\n",
        "# Necessary for starting Numpy generated random numbers\n",
        "# in a well-defined state.\n",
        "np.random.seed(my_seed)\n",
        "\n",
        "# Necessary for starting core Python generated random numbers\n",
        "# in a well-defined state.\n",
        "python_random.seed(my_seed)\n",
        "\n",
        "# set_seed() will make random number generation in the TensorFlow backend \n",
        "# have a well-defined initial state.\n",
        "# For further details, see:\n",
        "# https://www.tensorflow.org/api_docs/python/tf/random/set_seed\n",
        "tf.random.set_seed(my_seed)"
      ],
      "execution_count": null,
      "outputs": []
    },
    {
      "cell_type": "code",
      "metadata": {
        "id": "NPvnZUSKxU7r",
        "colab": {
          "base_uri": "https://localhost:8080/"
        },
        "outputId": "5b1fe0c8-7f0c-4c70-8f3b-fcaed11a8f41"
      },
      "source": [
        "# Install the modified keras_unet\n",
        "!ls \"/content/drive/My Drive/Skola/Tillämpad Bioinformatik (slutkursen)/Code/keras-unet/\"\n",
        "\n",
        "%cd \"/content/drive/My Drive/Skola/Tillämpad Bioinformatik (slutkursen)/Code/keras-unet/\"\n",
        "\n",
        "!python setup.py install "
      ],
      "execution_count": null,
      "outputs": [
        {
          "output_type": "stream",
          "text": [
            "build\t\t\t       model.UNet_L2_F24_S9x9_adam.h5\n",
            "CHANGELOG.md\t\t       model.UNet_L2_F24_S9x9_sgd.h5\n",
            "dist\t\t\t       model.UNet_L3_F12_S5x5_adam.h5\n",
            "docs\t\t\t       model.UNet_L3_F12_S5x5_sgd.h5\n",
            "input\t\t\t       model.UNet_L3_F16_S9x9_adam.h5\n",
            "keras_unet\t\t       notebooks\n",
            "keras_unet.egg-info\t       README.md\n",
            "LICENSE\t\t\t       requirements.txt\n",
            "model.UNet_L1_F8_S3x3_adam.h5  setup.py\n",
            "model.UNet_L1_F8_S3x3_sgd.h5   tests\n",
            "/content/drive/.shortcut-targets-by-id/1k2fyapEMr2C8S-A4cmxr0DRCgmBtJk5G/Tillämpad Bioinformatik (slutkursen)/Code/keras-unet\n",
            "running install\n",
            "running bdist_egg\n",
            "running egg_info\n",
            "writing keras_unet.egg-info/PKG-INFO\n",
            "writing dependency_links to keras_unet.egg-info/dependency_links.txt\n",
            "writing top-level names to keras_unet.egg-info/top_level.txt\n",
            "reading manifest file 'keras_unet.egg-info/SOURCES.txt'\n",
            "writing manifest file 'keras_unet.egg-info/SOURCES.txt'\n",
            "installing library code to build/bdist.linux-x86_64/egg\n",
            "running install_lib\n",
            "running build_py\n",
            "creating build/bdist.linux-x86_64/egg\n",
            "creating build/bdist.linux-x86_64/egg/keras_unet\n",
            "copying build/lib/keras_unet/losses.py -> build/bdist.linux-x86_64/egg/keras_unet\n",
            "copying build/lib/keras_unet/__init__.py -> build/bdist.linux-x86_64/egg/keras_unet\n",
            "copying build/lib/keras_unet/metrics_np.py -> build/bdist.linux-x86_64/egg/keras_unet\n",
            "copying build/lib/keras_unet/utils.py -> build/bdist.linux-x86_64/egg/keras_unet\n",
            "copying build/lib/keras_unet/metrics.py -> build/bdist.linux-x86_64/egg/keras_unet\n",
            "creating build/bdist.linux-x86_64/egg/keras_unet/models\n",
            "copying build/lib/keras_unet/models/satellite_unet.py -> build/bdist.linux-x86_64/egg/keras_unet/models\n",
            "copying build/lib/keras_unet/models/vanilla_unet.py -> build/bdist.linux-x86_64/egg/keras_unet/models\n",
            "copying build/lib/keras_unet/models/custom_vnet.py -> build/bdist.linux-x86_64/egg/keras_unet/models\n",
            "copying build/lib/keras_unet/models/__init__.py -> build/bdist.linux-x86_64/egg/keras_unet/models\n",
            "copying build/lib/keras_unet/models/custom_unet.py -> build/bdist.linux-x86_64/egg/keras_unet/models\n",
            "byte-compiling build/bdist.linux-x86_64/egg/keras_unet/losses.py to losses.cpython-36.pyc\n",
            "byte-compiling build/bdist.linux-x86_64/egg/keras_unet/__init__.py to __init__.cpython-36.pyc\n",
            "byte-compiling build/bdist.linux-x86_64/egg/keras_unet/metrics_np.py to metrics_np.cpython-36.pyc\n",
            "byte-compiling build/bdist.linux-x86_64/egg/keras_unet/utils.py to utils.cpython-36.pyc\n",
            "byte-compiling build/bdist.linux-x86_64/egg/keras_unet/metrics.py to metrics.cpython-36.pyc\n",
            "byte-compiling build/bdist.linux-x86_64/egg/keras_unet/models/satellite_unet.py to satellite_unet.cpython-36.pyc\n",
            "byte-compiling build/bdist.linux-x86_64/egg/keras_unet/models/vanilla_unet.py to vanilla_unet.cpython-36.pyc\n",
            "byte-compiling build/bdist.linux-x86_64/egg/keras_unet/models/custom_vnet.py to custom_vnet.cpython-36.pyc\n",
            "byte-compiling build/bdist.linux-x86_64/egg/keras_unet/models/__init__.py to __init__.cpython-36.pyc\n",
            "byte-compiling build/bdist.linux-x86_64/egg/keras_unet/models/custom_unet.py to custom_unet.cpython-36.pyc\n",
            "creating build/bdist.linux-x86_64/egg/EGG-INFO\n",
            "copying keras_unet.egg-info/PKG-INFO -> build/bdist.linux-x86_64/egg/EGG-INFO\n",
            "copying keras_unet.egg-info/SOURCES.txt -> build/bdist.linux-x86_64/egg/EGG-INFO\n",
            "copying keras_unet.egg-info/dependency_links.txt -> build/bdist.linux-x86_64/egg/EGG-INFO\n",
            "copying keras_unet.egg-info/not-zip-safe -> build/bdist.linux-x86_64/egg/EGG-INFO\n",
            "copying keras_unet.egg-info/top_level.txt -> build/bdist.linux-x86_64/egg/EGG-INFO\n",
            "creating 'dist/keras_unet-0.1.2-py3.6.egg' and adding 'build/bdist.linux-x86_64/egg' to it\n",
            "removing 'build/bdist.linux-x86_64/egg' (and everything under it)\n",
            "Processing keras_unet-0.1.2-py3.6.egg\n",
            "creating /usr/local/lib/python3.6/dist-packages/keras_unet-0.1.2-py3.6.egg\n",
            "Extracting keras_unet-0.1.2-py3.6.egg to /usr/local/lib/python3.6/dist-packages\n",
            "Adding keras-unet 0.1.2 to easy-install.pth file\n",
            "\n",
            "Installed /usr/local/lib/python3.6/dist-packages/keras_unet-0.1.2-py3.6.egg\n",
            "Processing dependencies for keras-unet==0.1.2\n",
            "Finished processing dependencies for keras-unet==0.1.2\n"
          ],
          "name": "stdout"
        }
      ]
    },
    {
      "cell_type": "code",
      "metadata": {
        "id": "z19QUeRqxXCe",
        "colab": {
          "base_uri": "https://localhost:8080/"
        },
        "outputId": "ebf504b3-4961-4547-c1e3-22f169975b3c"
      },
      "source": [
        "#import numpy as np\n",
        "%matplotlib inline\n",
        "import matplotlib.pyplot as plt\n",
        "import glob\n",
        "import os\n",
        "import sys\n",
        "from PIL import Image\n",
        "#import tensorflow as tf\n",
        "from tensorflow import keras\n",
        "from tensorflow.keras.models import load_model\n",
        "from keras_unet.utils import plot_imgs\n",
        "from sklearn.model_selection import train_test_split\n",
        "from keras_unet.models import custom_unet\n",
        "from keras.callbacks import ModelCheckpoint\n",
        "from keras_unet.metrics import iou, iou_thresholded\n",
        "from keras.optimizers import Adam, SGD\n",
        "from keras_unet.utils import get_augmented\n",
        "from keras_unet.utils import plot_segm_history\n",
        "from sklearn.preprocessing import label_binarize\n",
        "import time\n",
        "from sklearn.metrics import roc_curve, auc, roc_auc_score\n",
        "import csv\n",
        "import time\n",
        "from matplotlib.pyplot import cm\n",
        "from cycler import cycler\n",
        "\n",
        "%cd \"/content/\""
      ],
      "execution_count": null,
      "outputs": [
        {
          "output_type": "stream",
          "text": [
            "-----------------------------------------\n",
            "keras-unet init: TF version is >= 2.0.0 - using `tf.keras` instead of `Keras`\n",
            "-----------------------------------------\n",
            "/content\n"
          ],
          "name": "stdout"
        }
      ]
    },
    {
      "cell_type": "code",
      "metadata": {
        "id": "0LgXumiuxZSX"
      },
      "source": [
        "train_images = sorted(glob.glob(\"/content/drive/My Drive/UNet/TrainingImages/*.tif\"))\n",
        "train_masks = sorted(glob.glob(\"/content/drive/My Drive/UNet/TrainingLabels/*.tif\"))\n",
        "\n",
        "test_images = sorted(glob.glob(\"/content/drive/My Drive/UNet/IndependentTestImages/*.tif\"))\n",
        "test_masks = sorted(glob.glob(\"/content/drive/My Drive/UNet/IndependentTestLabels/*.tif\"))"
      ],
      "execution_count": null,
      "outputs": []
    },
    {
      "cell_type": "code",
      "metadata": {
        "id": "F10yrLjyxbca"
      },
      "source": [
        "# Modified to replace the mask with the image itself\n",
        "\n",
        "def prepare_images_masks(images, masks):\n",
        "    \n",
        "    I_list = []\n",
        "    M_list = []\n",
        "    for image, mask in zip(images, masks):\n",
        "        I = Image.open(image)\n",
        "        M = Image.open(mask)\n",
        "\n",
        "        I = np.array(I)\n",
        "        M = np.array(M)\n",
        "\n",
        "        I_list.append(I/(I.max()))\n",
        "        M_list.append(M/(M.max()))\n",
        "\n",
        "    X = np.asarray(I_list, dtype=np.float32)\n",
        "    Y = np.asarray(M_list, dtype=np.float32)\n",
        "\n",
        "    X = X.reshape(X.shape[0], X.shape[1], X.shape[2], 1) \n",
        "    Y = Y.reshape(Y.shape[0], Y.shape[1], Y.shape[2], 1)\n",
        "    \n",
        "    return X, Y\n",
        "\n",
        "\n",
        "X, Y = prepare_images_masks(train_images, train_images)\n",
        "X_test, Y_test = prepare_images_masks(test_images, test_images)"
      ],
      "execution_count": null,
      "outputs": []
    },
    {
      "cell_type": "code",
      "metadata": {
        "id": "at7DHgtRxda5",
        "colab": {
          "base_uri": "https://localhost:8080/"
        },
        "outputId": "a8b622aa-8782-4e24-c43e-853433a42be5"
      },
      "source": [
        "X_train, X_val, Y_train, Y_val = train_test_split(X, Y, train_size=0.75, random_state=33)\n",
        "\n",
        "print(\"# X_train: %d\" % X_train.shape[0])\n",
        "print(\"# Y_train: %d\" % Y_train.shape[0])\n",
        "print(\"# X_val: %d\" % X_val.shape[0])\n",
        "print(\"# Y_val: %d\" % Y_val.shape[0])"
      ],
      "execution_count": null,
      "outputs": [
        {
          "output_type": "stream",
          "text": [
            "# X_train: 6\n",
            "# Y_train: 6\n",
            "# X_val: 2\n",
            "# Y_val: 2\n"
          ],
          "name": "stdout"
        }
      ]
    },
    {
      "cell_type": "code",
      "metadata": {
        "id": "9KxXBgUDxf_i"
      },
      "source": [
        "train_gen = get_augmented(\n",
        "    X_train, Y_train, batch_size=2, seed=my_seed,\n",
        "    data_gen_args = dict(\n",
        "        rotation_range=360.0,\n",
        "        fill_mode='constant')\n",
        ")"
      ],
      "execution_count": null,
      "outputs": []
    },
    {
      "cell_type": "code",
      "metadata": {
        "id": "h1uQJJNMxqfq"
      },
      "source": [
        "# Parameters\n",
        "\n",
        "# Currently set to test networks with a kernel size of 3x3\n",
        "layers = [1,2,3,4]\n",
        "filters = [8,12,16,24,32]\n",
        "#kernel_sizes = [3,5,7,9]\n",
        "kernel_sizes = [3]\n",
        "filename = \"rec_3x3\""
      ],
      "execution_count": null,
      "outputs": []
    },
    {
      "cell_type": "code",
      "metadata": {
        "id": "0bUbfL4ixrGv",
        "colab": {
          "base_uri": "https://localhost:8080/"
        },
        "outputId": "8ab81f7e-2767-4ed1-9e8f-4fb4c00ace11"
      },
      "source": [
        "input_shape = X_train[0].shape\n",
        "\n",
        "# Initialize arrays for saving data: shape, time elapsed, rmse, number of parameters \n",
        "shapes = []\n",
        "time_elapsed = []\n",
        "rmse_list = []\n",
        "nr_param = []\n",
        "\n",
        "# For larger plot\n",
        "plt.rcParams['figure.figsize'] = [7, 7]\n",
        "plt.rcParams['figure.dpi'] = 100 \n",
        "\n",
        "plt.figure()\n",
        "lw = 2\n",
        "\n",
        "# Initialize color cycle\n",
        "n_lines = len(layers)*len(filters)*len(kernel_sizes)\n",
        "colors=cm.rainbow(np.linspace(0,1,n_lines))\n",
        "\n",
        "plt.rc('axes', prop_cycle=(cycler('color', colors)))\n",
        "\n",
        "# Parse through each combination of parameters\n",
        "for layer in layers:\n",
        "  for filter in filters:\n",
        "    for kernel in kernel_sizes:\n",
        "      \n",
        "\n",
        "      # Define net architecture\n",
        "      model = custom_unet(\n",
        "        input_shape,\n",
        "        filters=filter,\n",
        "        kernel_size=(kernel, kernel), \n",
        "        num_layers=layer,\n",
        "        output_activation = None\n",
        "      )\n",
        "\n",
        "      # Define file name\n",
        "      model_filename = f'UNet_L{layer}_F{filter}_S{kernel}x{kernel}.h5'\n",
        "      \n",
        "\n",
        "      my_callbacks = [\n",
        "        tf.keras.callbacks.EarlyStopping(patience=25),\n",
        "        tf.keras.callbacks.ModelCheckpoint(filepath='model.' + model_filename,\n",
        "                                          verbose=0, \n",
        "                                          monitor='val_loss', \n",
        "                                          save_best_only=True)\n",
        "      ]\n",
        "\n",
        "      model.compile(\n",
        "        optimizer=Adam(), \n",
        "        #optimizer=SGD(lr=0.0001, momentum=0.9),\n",
        "        loss='mean_squared_error',\n",
        "        metrics=[tf.keras.metrics.MeanSquaredError()]\n",
        "      )\n",
        "\n",
        "      # Measure the time\n",
        "      start_time = time.time()\n",
        "      \n",
        "      history = model.fit(\n",
        "        train_gen,\n",
        "        steps_per_epoch=10,\n",
        "        epochs=500,\n",
        "        validation_data=(X_val, Y_val),\n",
        "        callbacks=[my_callbacks],\n",
        "        verbose=0\n",
        "      )\n",
        "\n",
        "      end_time = time.time()\n",
        "      elapsed_time = (end_time - start_time)/60\n",
        "\n",
        "      # Uncomment to saved trained models to Google Drive \n",
        "      #model.save(F\"/content/drive/My Drive/Skola/Tillämpad Bioinformatik (slutkursen)/Unet-output/{model_filename}\")\n",
        "\n",
        "      # Create the preditions\n",
        "      Y_pred = model.predict(X_test)\n",
        "\n",
        "      N_Y_pred = Y_pred.shape[0]\n",
        "      Y_score = np.empty(())\n",
        "      Y_true = np.array(())\n",
        "\n",
        "      for i in range(N_Y_pred):\n",
        "          I_score = Y_pred[i, :, :, :]\n",
        "          I_score = I_score.flatten()\n",
        "          \n",
        "          I_true = Y_test[i, :, :, :]\n",
        "          I_true = I_true.flatten()\n",
        "          \n",
        "          if i == 0:\n",
        "              Y_score = I_score\n",
        "              Y_true = I_true\n",
        "          else:\n",
        "              Y_score = np.concatenate((Y_score, I_score), axis = 0)\n",
        "              Y_true = np.concatenate((Y_true, I_true), axis = 0)\n",
        "          \n",
        "\n",
        "      # Calculate the RMSE\n",
        "      RMSE = np.sqrt(np.sum(np.power((Y_score-Y_true),2))/np.size(Y_score))\n",
        "\n",
        "      # Add values to the arrays\n",
        "      shapes.append(f'L{layer}_F{filter}_S{kernel}x{kernel}')\n",
        "      time_elapsed.append(elapsed_time)\n",
        "      rmse_list.append(RMSE)\n",
        "      nr_param.append(model.count_params())\n",
        "\n",
        "    \n",
        "\n",
        "# Save results to csv-file\n",
        "with open(f\"/content/drive/My Drive/Skola/Tillämpad Bioinformatik (slutkursen)/Unet-output/{filename}.csv\", 'w', newline='') as myfile:\n",
        "  wr = csv.writer(myfile, quoting=csv.QUOTE_ALL)\n",
        "  for i in range(len(layers)*len(filters)*len(kernel_sizes)):\n",
        "    wr.writerow([shapes[i], time_elapsed[i], rmse_list[i], nr_param[i]])\n"
      ],
      "execution_count": null,
      "outputs": [
        {
          "output_type": "stream",
          "text": [
            "WARNING:tensorflow:5 out of the last 5 calls to <function Model.make_predict_function.<locals>.predict_function at 0x7ff60049a2f0> triggered tf.function retracing. Tracing is expensive and the excessive number of tracings could be due to (1) creating @tf.function repeatedly in a loop, (2) passing tensors with different shapes, (3) passing Python objects instead of tensors. For (1), please define your @tf.function outside of the loop. For (2), @tf.function has experimental_relax_shapes=True option that relaxes argument shapes that can avoid unnecessary retracing. For (3), please refer to https://www.tensorflow.org/guide/function#controlling_retracing and https://www.tensorflow.org/api_docs/python/tf/function for  more details.\n",
            "WARNING:tensorflow:6 out of the last 6 calls to <function Model.make_predict_function.<locals>.predict_function at 0x7ff6002201e0> triggered tf.function retracing. Tracing is expensive and the excessive number of tracings could be due to (1) creating @tf.function repeatedly in a loop, (2) passing tensors with different shapes, (3) passing Python objects instead of tensors. For (1), please define your @tf.function outside of the loop. For (2), @tf.function has experimental_relax_shapes=True option that relaxes argument shapes that can avoid unnecessary retracing. For (3), please refer to https://www.tensorflow.org/guide/function#controlling_retracing and https://www.tensorflow.org/api_docs/python/tf/function for  more details.\n",
            "WARNING:tensorflow:7 out of the last 7 calls to <function Model.make_predict_function.<locals>.predict_function at 0x7ff6003a2b70> triggered tf.function retracing. Tracing is expensive and the excessive number of tracings could be due to (1) creating @tf.function repeatedly in a loop, (2) passing tensors with different shapes, (3) passing Python objects instead of tensors. For (1), please define your @tf.function outside of the loop. For (2), @tf.function has experimental_relax_shapes=True option that relaxes argument shapes that can avoid unnecessary retracing. For (3), please refer to https://www.tensorflow.org/guide/function#controlling_retracing and https://www.tensorflow.org/api_docs/python/tf/function for  more details.\n",
            "WARNING:tensorflow:8 out of the last 8 calls to <function Model.make_predict_function.<locals>.predict_function at 0x7ff5b1540378> triggered tf.function retracing. Tracing is expensive and the excessive number of tracings could be due to (1) creating @tf.function repeatedly in a loop, (2) passing tensors with different shapes, (3) passing Python objects instead of tensors. For (1), please define your @tf.function outside of the loop. For (2), @tf.function has experimental_relax_shapes=True option that relaxes argument shapes that can avoid unnecessary retracing. For (3), please refer to https://www.tensorflow.org/guide/function#controlling_retracing and https://www.tensorflow.org/api_docs/python/tf/function for  more details.\n",
            "WARNING:tensorflow:9 out of the last 9 calls to <function Model.make_predict_function.<locals>.predict_function at 0x7ff5b1737268> triggered tf.function retracing. Tracing is expensive and the excessive number of tracings could be due to (1) creating @tf.function repeatedly in a loop, (2) passing tensors with different shapes, (3) passing Python objects instead of tensors. For (1), please define your @tf.function outside of the loop. For (2), @tf.function has experimental_relax_shapes=True option that relaxes argument shapes that can avoid unnecessary retracing. For (3), please refer to https://www.tensorflow.org/guide/function#controlling_retracing and https://www.tensorflow.org/api_docs/python/tf/function for  more details.\n",
            "WARNING:tensorflow:10 out of the last 10 calls to <function Model.make_predict_function.<locals>.predict_function at 0x7ff5b1516158> triggered tf.function retracing. Tracing is expensive and the excessive number of tracings could be due to (1) creating @tf.function repeatedly in a loop, (2) passing tensors with different shapes, (3) passing Python objects instead of tensors. For (1), please define your @tf.function outside of the loop. For (2), @tf.function has experimental_relax_shapes=True option that relaxes argument shapes that can avoid unnecessary retracing. For (3), please refer to https://www.tensorflow.org/guide/function#controlling_retracing and https://www.tensorflow.org/api_docs/python/tf/function for  more details.\n",
            "WARNING:tensorflow:11 out of the last 11 calls to <function Model.make_predict_function.<locals>.predict_function at 0x7ff5b15dd730> triggered tf.function retracing. Tracing is expensive and the excessive number of tracings could be due to (1) creating @tf.function repeatedly in a loop, (2) passing tensors with different shapes, (3) passing Python objects instead of tensors. For (1), please define your @tf.function outside of the loop. For (2), @tf.function has experimental_relax_shapes=True option that relaxes argument shapes that can avoid unnecessary retracing. For (3), please refer to https://www.tensorflow.org/guide/function#controlling_retracing and https://www.tensorflow.org/api_docs/python/tf/function for  more details.\n",
            "WARNING:tensorflow:11 out of the last 11 calls to <function Model.make_predict_function.<locals>.predict_function at 0x7ff5b15167b8> triggered tf.function retracing. Tracing is expensive and the excessive number of tracings could be due to (1) creating @tf.function repeatedly in a loop, (2) passing tensors with different shapes, (3) passing Python objects instead of tensors. For (1), please define your @tf.function outside of the loop. For (2), @tf.function has experimental_relax_shapes=True option that relaxes argument shapes that can avoid unnecessary retracing. For (3), please refer to https://www.tensorflow.org/guide/function#controlling_retracing and https://www.tensorflow.org/api_docs/python/tf/function for  more details.\n",
            "WARNING:tensorflow:11 out of the last 11 calls to <function Model.make_predict_function.<locals>.predict_function at 0x7ff5b30540d0> triggered tf.function retracing. Tracing is expensive and the excessive number of tracings could be due to (1) creating @tf.function repeatedly in a loop, (2) passing tensors with different shapes, (3) passing Python objects instead of tensors. For (1), please define your @tf.function outside of the loop. For (2), @tf.function has experimental_relax_shapes=True option that relaxes argument shapes that can avoid unnecessary retracing. For (3), please refer to https://www.tensorflow.org/guide/function#controlling_retracing and https://www.tensorflow.org/api_docs/python/tf/function for  more details.\n",
            "WARNING:tensorflow:11 out of the last 11 calls to <function Model.make_predict_function.<locals>.predict_function at 0x7ff608504ae8> triggered tf.function retracing. Tracing is expensive and the excessive number of tracings could be due to (1) creating @tf.function repeatedly in a loop, (2) passing tensors with different shapes, (3) passing Python objects instead of tensors. For (1), please define your @tf.function outside of the loop. For (2), @tf.function has experimental_relax_shapes=True option that relaxes argument shapes that can avoid unnecessary retracing. For (3), please refer to https://www.tensorflow.org/guide/function#controlling_retracing and https://www.tensorflow.org/api_docs/python/tf/function for  more details.\n",
            "WARNING:tensorflow:11 out of the last 11 calls to <function Model.make_predict_function.<locals>.predict_function at 0x7ff600415d08> triggered tf.function retracing. Tracing is expensive and the excessive number of tracings could be due to (1) creating @tf.function repeatedly in a loop, (2) passing tensors with different shapes, (3) passing Python objects instead of tensors. For (1), please define your @tf.function outside of the loop. For (2), @tf.function has experimental_relax_shapes=True option that relaxes argument shapes that can avoid unnecessary retracing. For (3), please refer to https://www.tensorflow.org/guide/function#controlling_retracing and https://www.tensorflow.org/api_docs/python/tf/function for  more details.\n",
            "WARNING:tensorflow:11 out of the last 11 calls to <function Model.make_predict_function.<locals>.predict_function at 0x7ff5b37a26a8> triggered tf.function retracing. Tracing is expensive and the excessive number of tracings could be due to (1) creating @tf.function repeatedly in a loop, (2) passing tensors with different shapes, (3) passing Python objects instead of tensors. For (1), please define your @tf.function outside of the loop. For (2), @tf.function has experimental_relax_shapes=True option that relaxes argument shapes that can avoid unnecessary retracing. For (3), please refer to https://www.tensorflow.org/guide/function#controlling_retracing and https://www.tensorflow.org/api_docs/python/tf/function for  more details.\n",
            "WARNING:tensorflow:11 out of the last 11 calls to <function Model.make_predict_function.<locals>.predict_function at 0x7ff5b3054730> triggered tf.function retracing. Tracing is expensive and the excessive number of tracings could be due to (1) creating @tf.function repeatedly in a loop, (2) passing tensors with different shapes, (3) passing Python objects instead of tensors. For (1), please define your @tf.function outside of the loop. For (2), @tf.function has experimental_relax_shapes=True option that relaxes argument shapes that can avoid unnecessary retracing. For (3), please refer to https://www.tensorflow.org/guide/function#controlling_retracing and https://www.tensorflow.org/api_docs/python/tf/function for  more details.\n",
            "WARNING:tensorflow:11 out of the last 11 calls to <function Model.make_predict_function.<locals>.predict_function at 0x7ff5b339e268> triggered tf.function retracing. Tracing is expensive and the excessive number of tracings could be due to (1) creating @tf.function repeatedly in a loop, (2) passing tensors with different shapes, (3) passing Python objects instead of tensors. For (1), please define your @tf.function outside of the loop. For (2), @tf.function has experimental_relax_shapes=True option that relaxes argument shapes that can avoid unnecessary retracing. For (3), please refer to https://www.tensorflow.org/guide/function#controlling_retracing and https://www.tensorflow.org/api_docs/python/tf/function for  more details.\n",
            "WARNING:tensorflow:11 out of the last 11 calls to <function Model.make_predict_function.<locals>.predict_function at 0x7ff5b14379d8> triggered tf.function retracing. Tracing is expensive and the excessive number of tracings could be due to (1) creating @tf.function repeatedly in a loop, (2) passing tensors with different shapes, (3) passing Python objects instead of tensors. For (1), please define your @tf.function outside of the loop. For (2), @tf.function has experimental_relax_shapes=True option that relaxes argument shapes that can avoid unnecessary retracing. For (3), please refer to https://www.tensorflow.org/guide/function#controlling_retracing and https://www.tensorflow.org/api_docs/python/tf/function for  more details.\n",
            "WARNING:tensorflow:11 out of the last 11 calls to <function Model.make_predict_function.<locals>.predict_function at 0x7ff5b1341510> triggered tf.function retracing. Tracing is expensive and the excessive number of tracings could be due to (1) creating @tf.function repeatedly in a loop, (2) passing tensors with different shapes, (3) passing Python objects instead of tensors. For (1), please define your @tf.function outside of the loop. For (2), @tf.function has experimental_relax_shapes=True option that relaxes argument shapes that can avoid unnecessary retracing. For (3), please refer to https://www.tensorflow.org/guide/function#controlling_retracing and https://www.tensorflow.org/api_docs/python/tf/function for  more details.\n"
          ],
          "name": "stdout"
        },
        {
          "output_type": "display_data",
          "data": {
            "text/plain": [
              "<Figure size 700x700 with 0 Axes>"
            ]
          },
          "metadata": {
            "tags": []
          }
        }
      ]
    }
  ]
}